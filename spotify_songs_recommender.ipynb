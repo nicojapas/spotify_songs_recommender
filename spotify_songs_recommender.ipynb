{
 "cells": [
  {
   "cell_type": "markdown",
   "id": "piano-offset",
   "metadata": {},
   "source": [
    "![logo_ironhack_blue 7](spotify_recommender_logo.png)\n",
    "\n",
    "\n",
    "\n",
    "# Spotify Songs Recommender\n",
    "\n",
    "![database](img1.png)\n",
    "![clustering](img2.png)\n"
   ]
  },
  {
   "cell_type": "code",
   "execution_count": 1,
   "id": "vulnerable-indiana",
   "metadata": {},
   "outputs": [],
   "source": [
    "from bs4 import BeautifulSoup\n",
    "import requests\n",
    "import math\n",
    "import numpy as np\n",
    "import spotipy\n",
    "from spotipy.oauth2 import SpotifyClientCredentials\n",
    "import pandas as pd\n",
    "from tqdm.notebook import tqdm\n",
    "from collections import defaultdict\n",
    "import getpass"
   ]
  },
  {
   "cell_type": "markdown",
   "id": "controlled-competition",
   "metadata": {},
   "source": [
    "Spotify credentials"
   ]
  },
  {
   "cell_type": "code",
   "execution_count": 17,
   "id": "regional-impact",
   "metadata": {},
   "outputs": [
    {
     "name": "stdout",
     "output_type": "stream",
     "text": [
      "input client_id········\n",
      "input client_secret········\n"
     ]
    }
   ],
   "source": [
    "client_id = getpass.getpass(prompt='input client_id') \n",
    "client_secret = getpass.getpass(prompt='input client_secret')"
   ]
  },
  {
   "cell_type": "code",
   "execution_count": 18,
   "id": "short-amazon",
   "metadata": {},
   "outputs": [],
   "source": [
    "sp = spotipy.Spotify(auth_manager=SpotifyClientCredentials(client_id=client_id,\n",
    "                                                           client_secret=client_secret))"
   ]
  },
  {
   "cell_type": "markdown",
   "id": "confident-validation",
   "metadata": {},
   "source": [
    "Get \"The Hot 100\" Billboard Songs"
   ]
  },
  {
   "cell_type": "code",
   "execution_count": 19,
   "id": "tribal-tuition",
   "metadata": {},
   "outputs": [],
   "source": [
    "url = \"https://www.billboard.com/charts/hot-100\""
   ]
  },
  {
   "cell_type": "code",
   "execution_count": 20,
   "id": "blocked-victim",
   "metadata": {},
   "outputs": [],
   "source": [
    "response = requests.get(url)\n",
    "soup = BeautifulSoup(response.content, 'html.parser')"
   ]
  },
  {
   "cell_type": "code",
   "execution_count": 21,
   "id": "golden-dublin",
   "metadata": {},
   "outputs": [
    {
     "data": {
      "text/html": [
       "<div>\n",
       "<style scoped>\n",
       "    .dataframe tbody tr th:only-of-type {\n",
       "        vertical-align: middle;\n",
       "    }\n",
       "\n",
       "    .dataframe tbody tr th {\n",
       "        vertical-align: top;\n",
       "    }\n",
       "\n",
       "    .dataframe thead th {\n",
       "        text-align: right;\n",
       "    }\n",
       "</style>\n",
       "<table border=\"1\" class=\"dataframe\">\n",
       "  <thead>\n",
       "    <tr style=\"text-align: right;\">\n",
       "      <th></th>\n",
       "      <th>title</th>\n",
       "      <th>artist</th>\n",
       "    </tr>\n",
       "  </thead>\n",
       "  <tbody>\n",
       "    <tr>\n",
       "      <th>0</th>\n",
       "      <td>What's Next</td>\n",
       "      <td>Drake</td>\n",
       "    </tr>\n",
       "    <tr>\n",
       "      <th>1</th>\n",
       "      <td>Wants And Needs</td>\n",
       "      <td>Drake Featuring Lil Baby</td>\n",
       "    </tr>\n",
       "    <tr>\n",
       "      <th>2</th>\n",
       "      <td>Lemon Pepper Freestyle</td>\n",
       "      <td>Drake Featuring Rick Ross</td>\n",
       "    </tr>\n",
       "    <tr>\n",
       "      <th>3</th>\n",
       "      <td>Leave The Door Open</td>\n",
       "      <td>Silk Sonic (Bruno Mars &amp; Anderson .Paak)</td>\n",
       "    </tr>\n",
       "    <tr>\n",
       "      <th>4</th>\n",
       "      <td>Drivers License</td>\n",
       "      <td>Olivia Rodrigo</td>\n",
       "    </tr>\n",
       "  </tbody>\n",
       "</table>\n",
       "</div>"
      ],
      "text/plain": [
       "                    title                                    artist\n",
       "0             What's Next                                     Drake\n",
       "1         Wants And Needs                  Drake Featuring Lil Baby\n",
       "2  Lemon Pepper Freestyle                 Drake Featuring Rick Ross\n",
       "3     Leave The Door Open  Silk Sonic (Bruno Mars & Anderson .Paak)\n",
       "4         Drivers License                            Olivia Rodrigo"
      ]
     },
     "execution_count": 21,
     "metadata": {},
     "output_type": "execute_result"
    }
   ],
   "source": [
    "titles = []\n",
    "artists = []\n",
    "for tag in soup.find_all('span', 'chart-element__information__song text--truncate color--primary'):\n",
    "    titles.append(tag.get_text())\n",
    "for tag in soup.find_all('span', 'chart-element__information__artist text--truncate color--secondary'):\n",
    "    artists.append(tag.get_text())\n",
    "\n",
    "top100 = pd.DataFrame({'title':titles, 'artist':artists})\n",
    "top100.head()"
   ]
  },
  {
   "cell_type": "code",
   "execution_count": 22,
   "id": "agricultural-season",
   "metadata": {},
   "outputs": [
    {
     "data": {
      "text/plain": [
       "(100, 2)"
      ]
     },
     "execution_count": 22,
     "metadata": {},
     "output_type": "execute_result"
    }
   ],
   "source": [
    "top100.shape"
   ]
  },
  {
   "cell_type": "markdown",
   "id": "patient-allergy",
   "metadata": {},
   "source": [
    "Get many songs from Spotify"
   ]
  },
  {
   "cell_type": "code",
   "execution_count": 23,
   "id": "anticipated-parameter",
   "metadata": {},
   "outputs": [],
   "source": [
    "user = 'spotify'"
   ]
  },
  {
   "cell_type": "code",
   "execution_count": 26,
   "id": "constant-significance",
   "metadata": {},
   "outputs": [],
   "source": [
    "sp.user_playlists(user)\n",
    "\n",
    "playlists = sp.user_playlists(user)\n",
    "playlist_uri = []\n",
    "playlist_names = []\n",
    "\n",
    "while playlists:\n",
    "    for playlist in playlists['items']:\n",
    "        playlist_uri.append(playlist['uri'])\n",
    "        playlist_names.append(playlist['name'])\n",
    "    if playlists['next']:\n",
    "        playlists = sp.next(playlists)\n",
    "    else:\n",
    "        playlists = None"
   ]
  },
  {
   "cell_type": "code",
   "execution_count": 27,
   "id": "reduced-somerset",
   "metadata": {},
   "outputs": [],
   "source": [
    "# playlist_names"
   ]
  },
  {
   "cell_type": "code",
   "execution_count": 28,
   "id": "introductory-launch",
   "metadata": {},
   "outputs": [],
   "source": [
    "def get_tracks_from_playlist(username, playlist_id):\n",
    "    results = sp.user_playlist_tracks(username, playlist_id)\n",
    "    tracks = results['items']\n",
    "    while results['next']:\n",
    "        results = sp.next(results)\n",
    "        tracks.extend(results['items'])\n",
    "    return tracks"
   ]
  },
  {
   "cell_type": "code",
   "execution_count": 29,
   "id": "demanding-princess",
   "metadata": {},
   "outputs": [],
   "source": [
    "def get_all_tracks(uri):\n",
    "\n",
    "    s_id = []\n",
    "    s_name = []\n",
    "    s_artists = []\n",
    "    \n",
    "    results = get_tracks_from_playlist(\"\",uri)\n",
    "    c = 0\n",
    "    for i in results:\n",
    "        if i['track'] != None:\n",
    "            s_id.append(\"missing value\" if i['track']['id'] == None else i['track']['id'])\n",
    "            s_name.append(i['track']['name'])\n",
    "            s_artists.append([j['name'] for j in i['track']['artists']])\n",
    "\n",
    "    return {'song_id':s_id, 'song_name':s_name, 'artists':s_artists}"
   ]
  },
  {
   "cell_type": "code",
   "execution_count": 30,
   "id": "assumed-agency",
   "metadata": {},
   "outputs": [
    {
     "data": {
      "application/vnd.jupyter.widget-view+json": {
       "model_id": "bc807b587d864fa58ddc134082077001",
       "version_major": 2,
       "version_minor": 0
      },
      "text/plain": [
       "  0%|          | 0/1398 [00:00<?, ?it/s]"
      ]
     },
     "metadata": {},
     "output_type": "display_data"
    }
   ],
   "source": [
    "songs = {'song_id':[], 'song_name':[], 'artists':[]}\n",
    "\n",
    "for i in tqdm(playlist_uri):\n",
    "    d = get_all_tracks(i)\n",
    "    [songs['song_id'].append(i) for i in d['song_id']]\n",
    "    [songs['song_name'].append(i) for i in d['song_name']]\n",
    "    [songs['artists'].append(i) for i in d['artists']]"
   ]
  },
  {
   "cell_type": "code",
   "execution_count": 31,
   "id": "prostate-teacher",
   "metadata": {},
   "outputs": [
    {
     "data": {
      "text/html": [
       "<div>\n",
       "<style scoped>\n",
       "    .dataframe tbody tr th:only-of-type {\n",
       "        vertical-align: middle;\n",
       "    }\n",
       "\n",
       "    .dataframe tbody tr th {\n",
       "        vertical-align: top;\n",
       "    }\n",
       "\n",
       "    .dataframe thead th {\n",
       "        text-align: right;\n",
       "    }\n",
       "</style>\n",
       "<table border=\"1\" class=\"dataframe\">\n",
       "  <thead>\n",
       "    <tr style=\"text-align: right;\">\n",
       "      <th></th>\n",
       "      <th>song_id</th>\n",
       "      <th>song_name</th>\n",
       "      <th>artists</th>\n",
       "    </tr>\n",
       "  </thead>\n",
       "  <tbody>\n",
       "    <tr>\n",
       "      <th>0</th>\n",
       "      <td>7MAibcTli4IisCtbHKrGMh</td>\n",
       "      <td>Leave The Door Open</td>\n",
       "      <td>[Bruno Mars, Anderson .Paak, Silk Sonic]</td>\n",
       "    </tr>\n",
       "    <tr>\n",
       "      <th>1</th>\n",
       "      <td>5QO79kh1waicV47BqGRL3g</td>\n",
       "      <td>Save Your Tears</td>\n",
       "      <td>[The Weeknd]</td>\n",
       "    </tr>\n",
       "    <tr>\n",
       "      <th>2</th>\n",
       "      <td>1diS6nkxMQc3wwC4G1j0bh</td>\n",
       "      <td>We're Good</td>\n",
       "      <td>[Dua Lipa]</td>\n",
       "    </tr>\n",
       "    <tr>\n",
       "      <th>3</th>\n",
       "      <td>4u4NyuceXP7Uzh7XFJKCr1</td>\n",
       "      <td>Hold On</td>\n",
       "      <td>[Justin Bieber]</td>\n",
       "    </tr>\n",
       "    <tr>\n",
       "      <th>4</th>\n",
       "      <td>3Ofmpyhv5UAQ70mENzB277</td>\n",
       "      <td>Astronaut In The Ocean</td>\n",
       "      <td>[Masked Wolf]</td>\n",
       "    </tr>\n",
       "    <tr>\n",
       "      <th>...</th>\n",
       "      <td>...</td>\n",
       "      <td>...</td>\n",
       "      <td>...</td>\n",
       "    </tr>\n",
       "    <tr>\n",
       "      <th>103728</th>\n",
       "      <td>5kqIPrATaCc2LqxVWzQGbk</td>\n",
       "      <td>7 Years</td>\n",
       "      <td>[Lukas Graham]</td>\n",
       "    </tr>\n",
       "    <tr>\n",
       "      <th>103729</th>\n",
       "      <td>3FCto7hnn1shUyZL42YgfO</td>\n",
       "      <td>Piano Man</td>\n",
       "      <td>[Billy Joel]</td>\n",
       "    </tr>\n",
       "    <tr>\n",
       "      <th>103730</th>\n",
       "      <td>3XVBdLihbNbxUwZosxcGuJ</td>\n",
       "      <td>If I Ain't Got You</td>\n",
       "      <td>[Alicia Keys]</td>\n",
       "    </tr>\n",
       "    <tr>\n",
       "      <th>103731</th>\n",
       "      <td>6QPKYGnAW9QozVz2dSWqRg</td>\n",
       "      <td>Someone Like You</td>\n",
       "      <td>[Adele]</td>\n",
       "    </tr>\n",
       "    <tr>\n",
       "      <th>103732</th>\n",
       "      <td>1VdZ0vKfR5jneCmWIUAMxK</td>\n",
       "      <td>The A Team</td>\n",
       "      <td>[Ed Sheeran]</td>\n",
       "    </tr>\n",
       "  </tbody>\n",
       "</table>\n",
       "<p>103733 rows × 3 columns</p>\n",
       "</div>"
      ],
      "text/plain": [
       "                       song_id               song_name  \\\n",
       "0       7MAibcTli4IisCtbHKrGMh     Leave The Door Open   \n",
       "1       5QO79kh1waicV47BqGRL3g         Save Your Tears   \n",
       "2       1diS6nkxMQc3wwC4G1j0bh              We're Good   \n",
       "3       4u4NyuceXP7Uzh7XFJKCr1                 Hold On   \n",
       "4       3Ofmpyhv5UAQ70mENzB277  Astronaut In The Ocean   \n",
       "...                        ...                     ...   \n",
       "103728  5kqIPrATaCc2LqxVWzQGbk                 7 Years   \n",
       "103729  3FCto7hnn1shUyZL42YgfO               Piano Man   \n",
       "103730  3XVBdLihbNbxUwZosxcGuJ      If I Ain't Got You   \n",
       "103731  6QPKYGnAW9QozVz2dSWqRg        Someone Like You   \n",
       "103732  1VdZ0vKfR5jneCmWIUAMxK              The A Team   \n",
       "\n",
       "                                         artists  \n",
       "0       [Bruno Mars, Anderson .Paak, Silk Sonic]  \n",
       "1                                   [The Weeknd]  \n",
       "2                                     [Dua Lipa]  \n",
       "3                                [Justin Bieber]  \n",
       "4                                  [Masked Wolf]  \n",
       "...                                          ...  \n",
       "103728                            [Lukas Graham]  \n",
       "103729                              [Billy Joel]  \n",
       "103730                             [Alicia Keys]  \n",
       "103731                                   [Adele]  \n",
       "103732                              [Ed Sheeran]  \n",
       "\n",
       "[103733 rows x 3 columns]"
      ]
     },
     "execution_count": 31,
     "metadata": {},
     "output_type": "execute_result"
    }
   ],
   "source": [
    "df_songs = pd.DataFrame(songs)\n",
    "df_songs"
   ]
  },
  {
   "cell_type": "markdown",
   "id": "extended-greeting",
   "metadata": {},
   "source": [
    "Remove the duplicates"
   ]
  },
  {
   "cell_type": "code",
   "execution_count": 32,
   "id": "incoming-blink",
   "metadata": {
    "scrolled": true
   },
   "outputs": [
    {
     "data": {
      "text/html": [
       "<div>\n",
       "<style scoped>\n",
       "    .dataframe tbody tr th:only-of-type {\n",
       "        vertical-align: middle;\n",
       "    }\n",
       "\n",
       "    .dataframe tbody tr th {\n",
       "        vertical-align: top;\n",
       "    }\n",
       "\n",
       "    .dataframe thead th {\n",
       "        text-align: right;\n",
       "    }\n",
       "</style>\n",
       "<table border=\"1\" class=\"dataframe\">\n",
       "  <thead>\n",
       "    <tr style=\"text-align: right;\">\n",
       "      <th></th>\n",
       "      <th>song_id</th>\n",
       "      <th>song_name</th>\n",
       "      <th>artists</th>\n",
       "    </tr>\n",
       "  </thead>\n",
       "  <tbody>\n",
       "    <tr>\n",
       "      <th>0</th>\n",
       "      <td>7MAibcTli4IisCtbHKrGMh</td>\n",
       "      <td>Leave The Door Open</td>\n",
       "      <td>[Bruno Mars, Anderson .Paak, Silk Sonic]</td>\n",
       "    </tr>\n",
       "    <tr>\n",
       "      <th>1</th>\n",
       "      <td>5QO79kh1waicV47BqGRL3g</td>\n",
       "      <td>Save Your Tears</td>\n",
       "      <td>[The Weeknd]</td>\n",
       "    </tr>\n",
       "    <tr>\n",
       "      <th>2</th>\n",
       "      <td>1diS6nkxMQc3wwC4G1j0bh</td>\n",
       "      <td>We're Good</td>\n",
       "      <td>[Dua Lipa]</td>\n",
       "    </tr>\n",
       "    <tr>\n",
       "      <th>3</th>\n",
       "      <td>4u4NyuceXP7Uzh7XFJKCr1</td>\n",
       "      <td>Hold On</td>\n",
       "      <td>[Justin Bieber]</td>\n",
       "    </tr>\n",
       "    <tr>\n",
       "      <th>4</th>\n",
       "      <td>3Ofmpyhv5UAQ70mENzB277</td>\n",
       "      <td>Astronaut In The Ocean</td>\n",
       "      <td>[Masked Wolf]</td>\n",
       "    </tr>\n",
       "    <tr>\n",
       "      <th>...</th>\n",
       "      <td>...</td>\n",
       "      <td>...</td>\n",
       "      <td>...</td>\n",
       "    </tr>\n",
       "    <tr>\n",
       "      <th>82405</th>\n",
       "      <td>2q4rjDy9WhaN3o9MvDbO21</td>\n",
       "      <td>Kiss Me Thru The Phone</td>\n",
       "      <td>[Soulja Boy, Sammie]</td>\n",
       "    </tr>\n",
       "    <tr>\n",
       "      <th>82406</th>\n",
       "      <td>3Zuf70897YkrVRAsrBMMSF</td>\n",
       "      <td>You're The One That I Want - From \"Grease\" Ori...</td>\n",
       "      <td>[John Travolta, Olivia Newton-John]</td>\n",
       "    </tr>\n",
       "    <tr>\n",
       "      <th>82407</th>\n",
       "      <td>0ygTmpa6uSotkBkTiwcMZ4</td>\n",
       "      <td>Warwick Avenue</td>\n",
       "      <td>[Duffy]</td>\n",
       "    </tr>\n",
       "    <tr>\n",
       "      <th>82408</th>\n",
       "      <td>7GJClzimvMSghjcrKxuf1M</td>\n",
       "      <td>Budapest</td>\n",
       "      <td>[George Ezra]</td>\n",
       "    </tr>\n",
       "    <tr>\n",
       "      <th>82409</th>\n",
       "      <td>3NNqqioprPCnYcVtDn3wvS</td>\n",
       "      <td>Catch &amp; Release (Deepend remix)</td>\n",
       "      <td>[Matt Simons, Deepend]</td>\n",
       "    </tr>\n",
       "  </tbody>\n",
       "</table>\n",
       "<p>82410 rows × 3 columns</p>\n",
       "</div>"
      ],
      "text/plain": [
       "                      song_id  \\\n",
       "0      7MAibcTli4IisCtbHKrGMh   \n",
       "1      5QO79kh1waicV47BqGRL3g   \n",
       "2      1diS6nkxMQc3wwC4G1j0bh   \n",
       "3      4u4NyuceXP7Uzh7XFJKCr1   \n",
       "4      3Ofmpyhv5UAQ70mENzB277   \n",
       "...                       ...   \n",
       "82405  2q4rjDy9WhaN3o9MvDbO21   \n",
       "82406  3Zuf70897YkrVRAsrBMMSF   \n",
       "82407  0ygTmpa6uSotkBkTiwcMZ4   \n",
       "82408  7GJClzimvMSghjcrKxuf1M   \n",
       "82409  3NNqqioprPCnYcVtDn3wvS   \n",
       "\n",
       "                                               song_name  \\\n",
       "0                                    Leave The Door Open   \n",
       "1                                        Save Your Tears   \n",
       "2                                             We're Good   \n",
       "3                                                Hold On   \n",
       "4                                 Astronaut In The Ocean   \n",
       "...                                                  ...   \n",
       "82405                             Kiss Me Thru The Phone   \n",
       "82406  You're The One That I Want - From \"Grease\" Ori...   \n",
       "82407                                     Warwick Avenue   \n",
       "82408                                           Budapest   \n",
       "82409                    Catch & Release (Deepend remix)   \n",
       "\n",
       "                                        artists  \n",
       "0      [Bruno Mars, Anderson .Paak, Silk Sonic]  \n",
       "1                                  [The Weeknd]  \n",
       "2                                    [Dua Lipa]  \n",
       "3                               [Justin Bieber]  \n",
       "4                                 [Masked Wolf]  \n",
       "...                                         ...  \n",
       "82405                      [Soulja Boy, Sammie]  \n",
       "82406       [John Travolta, Olivia Newton-John]  \n",
       "82407                                   [Duffy]  \n",
       "82408                             [George Ezra]  \n",
       "82409                    [Matt Simons, Deepend]  \n",
       "\n",
       "[82410 rows x 3 columns]"
      ]
     },
     "execution_count": 32,
     "metadata": {},
     "output_type": "execute_result"
    }
   ],
   "source": [
    "df_songs = df_songs.drop_duplicates(subset='song_id').reset_index(drop=True)\n",
    "df_songs"
   ]
  },
  {
   "cell_type": "markdown",
   "id": "identified-morgan",
   "metadata": {},
   "source": [
    "Let's get the features, 100 ids at a time"
   ]
  },
  {
   "cell_type": "code",
   "execution_count": 33,
   "id": "official-median",
   "metadata": {},
   "outputs": [
    {
     "data": {
      "application/vnd.jupyter.widget-view+json": {
       "model_id": "653fd05de2a7423286a2bc1ea9e48d36",
       "version_major": 2,
       "version_minor": 0
      },
      "text/plain": [
       "  0%|          | 0/825 [00:00<?, ?it/s]"
      ]
     },
     "metadata": {},
     "output_type": "display_data"
    }
   ],
   "source": [
    "features_list = []\n",
    "for i in tqdm(range(math.ceil(df_songs.shape[0]/100))):\n",
    "    features_list.append(sp.audio_features(df_songs['song_id'].to_list()[i*100:(i+1)*100]))"
   ]
  },
  {
   "cell_type": "code",
   "execution_count": 35,
   "id": "twelve-fountain",
   "metadata": {},
   "outputs": [],
   "source": [
    "features = []\n",
    "[[(features.append(j) if j != None else None) for j in i] for i in features_list]\n",
    "pass"
   ]
  },
  {
   "cell_type": "code",
   "execution_count": 36,
   "id": "unnecessary-explorer",
   "metadata": {},
   "outputs": [],
   "source": [
    "dic = defaultdict(list)\n",
    "{dic[key].append(f[key]) for f in features for key in f}  \n",
    "df_features = pd.DataFrame(dict(dic))"
   ]
  },
  {
   "cell_type": "code",
   "execution_count": 37,
   "id": "intended-beads",
   "metadata": {},
   "outputs": [
    {
     "data": {
      "text/plain": [
       "(82410, 3)"
      ]
     },
     "execution_count": 37,
     "metadata": {},
     "output_type": "execute_result"
    }
   ],
   "source": [
    "df_songs.shape"
   ]
  },
  {
   "cell_type": "code",
   "execution_count": 38,
   "id": "handed-applicant",
   "metadata": {},
   "outputs": [
    {
     "data": {
      "text/plain": [
       "(82298, 18)"
      ]
     },
     "execution_count": 38,
     "metadata": {},
     "output_type": "execute_result"
    }
   ],
   "source": [
    "df_features.shape"
   ]
  },
  {
   "cell_type": "code",
   "execution_count": 39,
   "id": "employed-pizza",
   "metadata": {},
   "outputs": [],
   "source": [
    "df_features = df_features[df_features['speechiness']<0.8]"
   ]
  },
  {
   "cell_type": "code",
   "execution_count": 40,
   "id": "canadian-camping",
   "metadata": {},
   "outputs": [
    {
     "data": {
      "text/plain": [
       "Index(['song_id', 'song_name', 'artists', 'danceability', 'energy', 'key',\n",
       "       'loudness', 'mode', 'speechiness', 'acousticness', 'instrumentalness',\n",
       "       'liveness', 'valence', 'tempo', 'type', 'uri', 'track_href',\n",
       "       'analysis_url', 'duration_ms', 'time_signature'],\n",
       "      dtype='object')"
      ]
     },
     "execution_count": 40,
     "metadata": {},
     "output_type": "execute_result"
    }
   ],
   "source": [
    "df_all = df_songs.merge(df_features.rename({'id':'song_id'}, axis=1), on='song_id', how='right')\n",
    "df_all.columns"
   ]
  },
  {
   "cell_type": "code",
   "execution_count": 41,
   "id": "permanent-specialist",
   "metadata": {},
   "outputs": [],
   "source": [
    "df_all = df_all.drop(['type', 'uri', 'track_href', 'analysis_url'], axis=1)"
   ]
  },
  {
   "cell_type": "code",
   "execution_count": 42,
   "id": "rolled-innocent",
   "metadata": {},
   "outputs": [
    {
     "data": {
      "text/html": [
       "<div>\n",
       "<style scoped>\n",
       "    .dataframe tbody tr th:only-of-type {\n",
       "        vertical-align: middle;\n",
       "    }\n",
       "\n",
       "    .dataframe tbody tr th {\n",
       "        vertical-align: top;\n",
       "    }\n",
       "\n",
       "    .dataframe thead th {\n",
       "        text-align: right;\n",
       "    }\n",
       "</style>\n",
       "<table border=\"1\" class=\"dataframe\">\n",
       "  <thead>\n",
       "    <tr style=\"text-align: right;\">\n",
       "      <th></th>\n",
       "      <th>song_id</th>\n",
       "      <th>song_name</th>\n",
       "      <th>artists</th>\n",
       "      <th>danceability</th>\n",
       "      <th>energy</th>\n",
       "      <th>key</th>\n",
       "      <th>loudness</th>\n",
       "      <th>mode</th>\n",
       "      <th>speechiness</th>\n",
       "      <th>acousticness</th>\n",
       "      <th>instrumentalness</th>\n",
       "      <th>liveness</th>\n",
       "      <th>valence</th>\n",
       "      <th>tempo</th>\n",
       "      <th>duration_ms</th>\n",
       "      <th>time_signature</th>\n",
       "    </tr>\n",
       "  </thead>\n",
       "  <tbody>\n",
       "    <tr>\n",
       "      <th>0</th>\n",
       "      <td>7MAibcTli4IisCtbHKrGMh</td>\n",
       "      <td>Leave The Door Open</td>\n",
       "      <td>[Bruno Mars, Anderson .Paak, Silk Sonic]</td>\n",
       "      <td>0.586</td>\n",
       "      <td>0.616</td>\n",
       "      <td>5</td>\n",
       "      <td>-7.964</td>\n",
       "      <td>1</td>\n",
       "      <td>0.0324</td>\n",
       "      <td>0.1820</td>\n",
       "      <td>0.000000</td>\n",
       "      <td>0.0927</td>\n",
       "      <td>0.719</td>\n",
       "      <td>148.088</td>\n",
       "      <td>242096</td>\n",
       "      <td>4</td>\n",
       "    </tr>\n",
       "    <tr>\n",
       "      <th>1</th>\n",
       "      <td>5QO79kh1waicV47BqGRL3g</td>\n",
       "      <td>Save Your Tears</td>\n",
       "      <td>[The Weeknd]</td>\n",
       "      <td>0.680</td>\n",
       "      <td>0.826</td>\n",
       "      <td>0</td>\n",
       "      <td>-5.487</td>\n",
       "      <td>1</td>\n",
       "      <td>0.0309</td>\n",
       "      <td>0.0212</td>\n",
       "      <td>0.000012</td>\n",
       "      <td>0.5430</td>\n",
       "      <td>0.644</td>\n",
       "      <td>118.051</td>\n",
       "      <td>215627</td>\n",
       "      <td>4</td>\n",
       "    </tr>\n",
       "    <tr>\n",
       "      <th>2</th>\n",
       "      <td>1diS6nkxMQc3wwC4G1j0bh</td>\n",
       "      <td>We're Good</td>\n",
       "      <td>[Dua Lipa]</td>\n",
       "      <td>0.722</td>\n",
       "      <td>0.588</td>\n",
       "      <td>6</td>\n",
       "      <td>-5.932</td>\n",
       "      <td>1</td>\n",
       "      <td>0.0544</td>\n",
       "      <td>0.0319</td>\n",
       "      <td>0.000000</td>\n",
       "      <td>0.1830</td>\n",
       "      <td>0.590</td>\n",
       "      <td>134.010</td>\n",
       "      <td>165507</td>\n",
       "      <td>4</td>\n",
       "    </tr>\n",
       "    <tr>\n",
       "      <th>3</th>\n",
       "      <td>4u4NyuceXP7Uzh7XFJKCr1</td>\n",
       "      <td>Hold On</td>\n",
       "      <td>[Justin Bieber]</td>\n",
       "      <td>0.658</td>\n",
       "      <td>0.634</td>\n",
       "      <td>1</td>\n",
       "      <td>-5.797</td>\n",
       "      <td>0</td>\n",
       "      <td>0.0413</td>\n",
       "      <td>0.0106</td>\n",
       "      <td>0.000000</td>\n",
       "      <td>0.1320</td>\n",
       "      <td>0.290</td>\n",
       "      <td>139.980</td>\n",
       "      <td>170813</td>\n",
       "      <td>4</td>\n",
       "    </tr>\n",
       "    <tr>\n",
       "      <th>4</th>\n",
       "      <td>3Ofmpyhv5UAQ70mENzB277</td>\n",
       "      <td>Astronaut In The Ocean</td>\n",
       "      <td>[Masked Wolf]</td>\n",
       "      <td>0.778</td>\n",
       "      <td>0.695</td>\n",
       "      <td>4</td>\n",
       "      <td>-6.865</td>\n",
       "      <td>0</td>\n",
       "      <td>0.0913</td>\n",
       "      <td>0.1750</td>\n",
       "      <td>0.000000</td>\n",
       "      <td>0.1500</td>\n",
       "      <td>0.472</td>\n",
       "      <td>149.996</td>\n",
       "      <td>132780</td>\n",
       "      <td>4</td>\n",
       "    </tr>\n",
       "  </tbody>\n",
       "</table>\n",
       "</div>"
      ],
      "text/plain": [
       "                  song_id               song_name  \\\n",
       "0  7MAibcTli4IisCtbHKrGMh     Leave The Door Open   \n",
       "1  5QO79kh1waicV47BqGRL3g         Save Your Tears   \n",
       "2  1diS6nkxMQc3wwC4G1j0bh              We're Good   \n",
       "3  4u4NyuceXP7Uzh7XFJKCr1                 Hold On   \n",
       "4  3Ofmpyhv5UAQ70mENzB277  Astronaut In The Ocean   \n",
       "\n",
       "                                    artists  danceability  energy  key  \\\n",
       "0  [Bruno Mars, Anderson .Paak, Silk Sonic]         0.586   0.616    5   \n",
       "1                              [The Weeknd]         0.680   0.826    0   \n",
       "2                                [Dua Lipa]         0.722   0.588    6   \n",
       "3                           [Justin Bieber]         0.658   0.634    1   \n",
       "4                             [Masked Wolf]         0.778   0.695    4   \n",
       "\n",
       "   loudness  mode  speechiness  acousticness  instrumentalness  liveness  \\\n",
       "0    -7.964     1       0.0324        0.1820          0.000000    0.0927   \n",
       "1    -5.487     1       0.0309        0.0212          0.000012    0.5430   \n",
       "2    -5.932     1       0.0544        0.0319          0.000000    0.1830   \n",
       "3    -5.797     0       0.0413        0.0106          0.000000    0.1320   \n",
       "4    -6.865     0       0.0913        0.1750          0.000000    0.1500   \n",
       "\n",
       "   valence    tempo  duration_ms  time_signature  \n",
       "0    0.719  148.088       242096               4  \n",
       "1    0.644  118.051       215627               4  \n",
       "2    0.590  134.010       165507               4  \n",
       "3    0.290  139.980       170813               4  \n",
       "4    0.472  149.996       132780               4  "
      ]
     },
     "execution_count": 42,
     "metadata": {},
     "output_type": "execute_result"
    }
   ],
   "source": [
    "df_all.head()"
   ]
  },
  {
   "cell_type": "markdown",
   "id": "sunrise-education",
   "metadata": {},
   "source": [
    "Feature selection"
   ]
  },
  {
   "cell_type": "code",
   "execution_count": 43,
   "id": "nervous-enhancement",
   "metadata": {},
   "outputs": [],
   "source": [
    "X_cont = df_all[['danceability','energy','loudness','speechiness',\n",
    "                       'acousticness','instrumentalness','liveness','valence',\n",
    "                       'tempo','duration_ms']]"
   ]
  },
  {
   "cell_type": "code",
   "execution_count": 44,
   "id": "palestinian-tennessee",
   "metadata": {},
   "outputs": [],
   "source": [
    "X_disc = df_all[['key','mode','time_signature']]"
   ]
  },
  {
   "cell_type": "markdown",
   "id": "adolescent-chaos",
   "metadata": {},
   "source": [
    "Standardize"
   ]
  },
  {
   "cell_type": "code",
   "execution_count": 45,
   "id": "available-purpose",
   "metadata": {},
   "outputs": [],
   "source": [
    "from sklearn.preprocessing import StandardScaler\n",
    "scaler = StandardScaler()\n",
    "X_cont_st = scaler.fit_transform(X_cont)\n",
    "X_cont_st = pd.DataFrame(X_cont_st, columns=X_cont.columns)"
   ]
  },
  {
   "cell_type": "markdown",
   "id": "optical-synthetic",
   "metadata": {},
   "source": [
    "No need to encode the discrete variables"
   ]
  },
  {
   "cell_type": "code",
   "execution_count": 46,
   "id": "driving-cable",
   "metadata": {},
   "outputs": [
    {
     "data": {
      "text/html": [
       "<div>\n",
       "<style scoped>\n",
       "    .dataframe tbody tr th:only-of-type {\n",
       "        vertical-align: middle;\n",
       "    }\n",
       "\n",
       "    .dataframe tbody tr th {\n",
       "        vertical-align: top;\n",
       "    }\n",
       "\n",
       "    .dataframe thead th {\n",
       "        text-align: right;\n",
       "    }\n",
       "</style>\n",
       "<table border=\"1\" class=\"dataframe\">\n",
       "  <thead>\n",
       "    <tr style=\"text-align: right;\">\n",
       "      <th></th>\n",
       "      <th>key</th>\n",
       "      <th>mode</th>\n",
       "      <th>time_signature</th>\n",
       "    </tr>\n",
       "  </thead>\n",
       "  <tbody>\n",
       "    <tr>\n",
       "      <th>0</th>\n",
       "      <td>5</td>\n",
       "      <td>1</td>\n",
       "      <td>4</td>\n",
       "    </tr>\n",
       "    <tr>\n",
       "      <th>1</th>\n",
       "      <td>0</td>\n",
       "      <td>1</td>\n",
       "      <td>4</td>\n",
       "    </tr>\n",
       "    <tr>\n",
       "      <th>2</th>\n",
       "      <td>6</td>\n",
       "      <td>1</td>\n",
       "      <td>4</td>\n",
       "    </tr>\n",
       "    <tr>\n",
       "      <th>3</th>\n",
       "      <td>1</td>\n",
       "      <td>0</td>\n",
       "      <td>4</td>\n",
       "    </tr>\n",
       "    <tr>\n",
       "      <th>4</th>\n",
       "      <td>4</td>\n",
       "      <td>0</td>\n",
       "      <td>4</td>\n",
       "    </tr>\n",
       "    <tr>\n",
       "      <th>...</th>\n",
       "      <td>...</td>\n",
       "      <td>...</td>\n",
       "      <td>...</td>\n",
       "    </tr>\n",
       "    <tr>\n",
       "      <th>77017</th>\n",
       "      <td>7</td>\n",
       "      <td>1</td>\n",
       "      <td>4</td>\n",
       "    </tr>\n",
       "    <tr>\n",
       "      <th>77018</th>\n",
       "      <td>0</td>\n",
       "      <td>1</td>\n",
       "      <td>4</td>\n",
       "    </tr>\n",
       "    <tr>\n",
       "      <th>77019</th>\n",
       "      <td>0</td>\n",
       "      <td>0</td>\n",
       "      <td>4</td>\n",
       "    </tr>\n",
       "    <tr>\n",
       "      <th>77020</th>\n",
       "      <td>5</td>\n",
       "      <td>1</td>\n",
       "      <td>4</td>\n",
       "    </tr>\n",
       "    <tr>\n",
       "      <th>77021</th>\n",
       "      <td>1</td>\n",
       "      <td>0</td>\n",
       "      <td>4</td>\n",
       "    </tr>\n",
       "  </tbody>\n",
       "</table>\n",
       "<p>77022 rows × 3 columns</p>\n",
       "</div>"
      ],
      "text/plain": [
       "      key mode time_signature\n",
       "0       5    1              4\n",
       "1       0    1              4\n",
       "2       6    1              4\n",
       "3       1    0              4\n",
       "4       4    0              4\n",
       "...    ..  ...            ...\n",
       "77017   7    1              4\n",
       "77018   0    1              4\n",
       "77019   0    0              4\n",
       "77020   5    1              4\n",
       "77021   1    0              4\n",
       "\n",
       "[77022 rows x 3 columns]"
      ]
     },
     "execution_count": 46,
     "metadata": {},
     "output_type": "execute_result"
    }
   ],
   "source": [
    "X_disc = X_disc.astype('object')\n",
    "X_disc"
   ]
  },
  {
   "cell_type": "markdown",
   "id": "angry-literacy",
   "metadata": {},
   "source": [
    "Join all features"
   ]
  },
  {
   "cell_type": "code",
   "execution_count": 47,
   "id": "accepted-philadelphia",
   "metadata": {},
   "outputs": [
    {
     "data": {
      "text/html": [
       "<div>\n",
       "<style scoped>\n",
       "    .dataframe tbody tr th:only-of-type {\n",
       "        vertical-align: middle;\n",
       "    }\n",
       "\n",
       "    .dataframe tbody tr th {\n",
       "        vertical-align: top;\n",
       "    }\n",
       "\n",
       "    .dataframe thead th {\n",
       "        text-align: right;\n",
       "    }\n",
       "</style>\n",
       "<table border=\"1\" class=\"dataframe\">\n",
       "  <thead>\n",
       "    <tr style=\"text-align: right;\">\n",
       "      <th></th>\n",
       "      <th>danceability</th>\n",
       "      <th>energy</th>\n",
       "      <th>loudness</th>\n",
       "      <th>speechiness</th>\n",
       "      <th>acousticness</th>\n",
       "      <th>instrumentalness</th>\n",
       "      <th>liveness</th>\n",
       "      <th>valence</th>\n",
       "      <th>tempo</th>\n",
       "      <th>duration_ms</th>\n",
       "      <th>key</th>\n",
       "      <th>mode</th>\n",
       "      <th>time_signature</th>\n",
       "    </tr>\n",
       "  </thead>\n",
       "  <tbody>\n",
       "    <tr>\n",
       "      <th>0</th>\n",
       "      <td>0.265750</td>\n",
       "      <td>0.266032</td>\n",
       "      <td>0.387126</td>\n",
       "      <td>-0.482498</td>\n",
       "      <td>-0.560561</td>\n",
       "      <td>-0.598172</td>\n",
       "      <td>-0.581761</td>\n",
       "      <td>1.111648</td>\n",
       "      <td>0.960815</td>\n",
       "      <td>0.013403</td>\n",
       "      <td>5</td>\n",
       "      <td>1</td>\n",
       "      <td>4</td>\n",
       "    </tr>\n",
       "    <tr>\n",
       "      <th>1</th>\n",
       "      <td>0.758723</td>\n",
       "      <td>0.987256</td>\n",
       "      <td>0.735825</td>\n",
       "      <td>-0.495459</td>\n",
       "      <td>-0.995690</td>\n",
       "      <td>-0.598137</td>\n",
       "      <td>2.279212</td>\n",
       "      <td>0.824708</td>\n",
       "      <td>0.018957</td>\n",
       "      <td>-0.155449</td>\n",
       "      <td>0</td>\n",
       "      <td>1</td>\n",
       "      <td>4</td>\n",
       "    </tr>\n",
       "    <tr>\n",
       "      <th>2</th>\n",
       "      <td>0.978987</td>\n",
       "      <td>0.169869</td>\n",
       "      <td>0.673181</td>\n",
       "      <td>-0.292416</td>\n",
       "      <td>-0.966735</td>\n",
       "      <td>-0.598172</td>\n",
       "      <td>-0.008041</td>\n",
       "      <td>0.618111</td>\n",
       "      <td>0.519377</td>\n",
       "      <td>-0.475177</td>\n",
       "      <td>6</td>\n",
       "      <td>1</td>\n",
       "      <td>4</td>\n",
       "    </tr>\n",
       "    <tr>\n",
       "      <th>3</th>\n",
       "      <td>0.643346</td>\n",
       "      <td>0.327851</td>\n",
       "      <td>0.692185</td>\n",
       "      <td>-0.405601</td>\n",
       "      <td>-1.024373</td>\n",
       "      <td>-0.598172</td>\n",
       "      <td>-0.332069</td>\n",
       "      <td>-0.529651</td>\n",
       "      <td>0.706576</td>\n",
       "      <td>-0.441329</td>\n",
       "      <td>1</td>\n",
       "      <td>0</td>\n",
       "      <td>4</td>\n",
       "    </tr>\n",
       "    <tr>\n",
       "      <th>4</th>\n",
       "      <td>1.272673</td>\n",
       "      <td>0.537350</td>\n",
       "      <td>0.541838</td>\n",
       "      <td>0.026405</td>\n",
       "      <td>-0.579503</td>\n",
       "      <td>-0.598172</td>\n",
       "      <td>-0.217706</td>\n",
       "      <td>0.166658</td>\n",
       "      <td>1.020643</td>\n",
       "      <td>-0.683950</td>\n",
       "      <td>4</td>\n",
       "      <td>0</td>\n",
       "      <td>4</td>\n",
       "    </tr>\n",
       "    <tr>\n",
       "      <th>...</th>\n",
       "      <td>...</td>\n",
       "      <td>...</td>\n",
       "      <td>...</td>\n",
       "      <td>...</td>\n",
       "      <td>...</td>\n",
       "      <td>...</td>\n",
       "      <td>...</td>\n",
       "      <td>...</td>\n",
       "      <td>...</td>\n",
       "      <td>...</td>\n",
       "      <td>...</td>\n",
       "      <td>...</td>\n",
       "      <td>...</td>\n",
       "    </tr>\n",
       "    <tr>\n",
       "      <th>77017</th>\n",
       "      <td>1.167785</td>\n",
       "      <td>0.595734</td>\n",
       "      <td>0.975988</td>\n",
       "      <td>0.205255</td>\n",
       "      <td>-1.002996</td>\n",
       "      <td>-0.598172</td>\n",
       "      <td>-0.740598</td>\n",
       "      <td>1.402414</td>\n",
       "      <td>1.020706</td>\n",
       "      <td>-0.297324</td>\n",
       "      <td>7</td>\n",
       "      <td>1</td>\n",
       "      <td>4</td>\n",
       "    </tr>\n",
       "    <tr>\n",
       "      <th>77018</th>\n",
       "      <td>1.131075</td>\n",
       "      <td>0.736545</td>\n",
       "      <td>0.354185</td>\n",
       "      <td>0.045413</td>\n",
       "      <td>-0.438790</td>\n",
       "      <td>-0.595925</td>\n",
       "      <td>0.157149</td>\n",
       "      <td>1.322071</td>\n",
       "      <td>-0.328317</td>\n",
       "      <td>-0.456294</td>\n",
       "      <td>0</td>\n",
       "      <td>1</td>\n",
       "      <td>4</td>\n",
       "    </tr>\n",
       "    <tr>\n",
       "      <th>77019</th>\n",
       "      <td>-0.221978</td>\n",
       "      <td>0.176738</td>\n",
       "      <td>0.689792</td>\n",
       "      <td>-0.423746</td>\n",
       "      <td>-0.135715</td>\n",
       "      <td>-0.598172</td>\n",
       "      <td>-0.401957</td>\n",
       "      <td>0.281434</td>\n",
       "      <td>1.645016</td>\n",
       "      <td>-0.086809</td>\n",
       "      <td>0</td>\n",
       "      <td>0</td>\n",
       "      <td>4</td>\n",
       "    </tr>\n",
       "    <tr>\n",
       "      <th>77020</th>\n",
       "      <td>0.937032</td>\n",
       "      <td>-0.300643</td>\n",
       "      <td>0.344330</td>\n",
       "      <td>-0.523971</td>\n",
       "      <td>-0.814115</td>\n",
       "      <td>-0.598172</td>\n",
       "      <td>-0.484553</td>\n",
       "      <td>-0.085850</td>\n",
       "      <td>0.324245</td>\n",
       "      <td>-0.250545</td>\n",
       "      <td>5</td>\n",
       "      <td>1</td>\n",
       "      <td>4</td>\n",
       "    </tr>\n",
       "    <tr>\n",
       "      <th>77021</th>\n",
       "      <td>1.576848</td>\n",
       "      <td>-0.135792</td>\n",
       "      <td>0.117120</td>\n",
       "      <td>-0.348577</td>\n",
       "      <td>0.332428</td>\n",
       "      <td>-0.595332</td>\n",
       "      <td>-0.465492</td>\n",
       "      <td>-1.222133</td>\n",
       "      <td>-0.389901</td>\n",
       "      <td>-0.279385</td>\n",
       "      <td>1</td>\n",
       "      <td>0</td>\n",
       "      <td>4</td>\n",
       "    </tr>\n",
       "  </tbody>\n",
       "</table>\n",
       "<p>77022 rows × 13 columns</p>\n",
       "</div>"
      ],
      "text/plain": [
       "       danceability    energy  loudness  speechiness  acousticness  \\\n",
       "0          0.265750  0.266032  0.387126    -0.482498     -0.560561   \n",
       "1          0.758723  0.987256  0.735825    -0.495459     -0.995690   \n",
       "2          0.978987  0.169869  0.673181    -0.292416     -0.966735   \n",
       "3          0.643346  0.327851  0.692185    -0.405601     -1.024373   \n",
       "4          1.272673  0.537350  0.541838     0.026405     -0.579503   \n",
       "...             ...       ...       ...          ...           ...   \n",
       "77017      1.167785  0.595734  0.975988     0.205255     -1.002996   \n",
       "77018      1.131075  0.736545  0.354185     0.045413     -0.438790   \n",
       "77019     -0.221978  0.176738  0.689792    -0.423746     -0.135715   \n",
       "77020      0.937032 -0.300643  0.344330    -0.523971     -0.814115   \n",
       "77021      1.576848 -0.135792  0.117120    -0.348577      0.332428   \n",
       "\n",
       "       instrumentalness  liveness   valence     tempo  duration_ms key mode  \\\n",
       "0             -0.598172 -0.581761  1.111648  0.960815     0.013403   5    1   \n",
       "1             -0.598137  2.279212  0.824708  0.018957    -0.155449   0    1   \n",
       "2             -0.598172 -0.008041  0.618111  0.519377    -0.475177   6    1   \n",
       "3             -0.598172 -0.332069 -0.529651  0.706576    -0.441329   1    0   \n",
       "4             -0.598172 -0.217706  0.166658  1.020643    -0.683950   4    0   \n",
       "...                 ...       ...       ...       ...          ...  ..  ...   \n",
       "77017         -0.598172 -0.740598  1.402414  1.020706    -0.297324   7    1   \n",
       "77018         -0.595925  0.157149  1.322071 -0.328317    -0.456294   0    1   \n",
       "77019         -0.598172 -0.401957  0.281434  1.645016    -0.086809   0    0   \n",
       "77020         -0.598172 -0.484553 -0.085850  0.324245    -0.250545   5    1   \n",
       "77021         -0.595332 -0.465492 -1.222133 -0.389901    -0.279385   1    0   \n",
       "\n",
       "      time_signature  \n",
       "0                  4  \n",
       "1                  4  \n",
       "2                  4  \n",
       "3                  4  \n",
       "4                  4  \n",
       "...              ...  \n",
       "77017              4  \n",
       "77018              4  \n",
       "77019              4  \n",
       "77020              4  \n",
       "77021              4  \n",
       "\n",
       "[77022 rows x 13 columns]"
      ]
     },
     "execution_count": 47,
     "metadata": {},
     "output_type": "execute_result"
    }
   ],
   "source": [
    "X_prep = pd.concat([X_cont_st, X_disc], axis=1)\n",
    "X_prep"
   ]
  },
  {
   "cell_type": "markdown",
   "id": "ambient-burke",
   "metadata": {},
   "source": [
    "Subset of X just for practical purposes (faster processing)"
   ]
  },
  {
   "cell_type": "code",
   "execution_count": 48,
   "id": "contemporary-representation",
   "metadata": {},
   "outputs": [],
   "source": [
    "# With 1000 samples we get 7 clusters\n",
    "X_prep = X_prep.sample(50000)"
   ]
  },
  {
   "cell_type": "markdown",
   "id": "executed-london",
   "metadata": {},
   "source": [
    "Cluster"
   ]
  },
  {
   "cell_type": "code",
   "execution_count": 49,
   "id": "worst-intranet",
   "metadata": {},
   "outputs": [],
   "source": [
    "from sklearn.cluster import KMeans"
   ]
  },
  {
   "cell_type": "code",
   "execution_count": 50,
   "id": "inner-emerald",
   "metadata": {},
   "outputs": [
    {
     "data": {
      "text/plain": [
       "Text(0.5, 1.0, 'Elbow Method showing the optimal k within [2, 3, 4, 5, 6, 7, 8, 9, 10, 11, 12, 13, 14, 15, 16, 17, 18, 19]')"
      ]
     },
     "execution_count": 50,
     "metadata": {},
     "output_type": "execute_result"
    },
    {
     "data": {
      "image/png": "[encoded data removed]",
      "text/plain": [
       "<Figure size 1152x576 with 1 Axes>"
      ]
     },
     "metadata": {
      "needs_background": "light"
     },
     "output_type": "display_data"
    }
   ],
   "source": [
    "K = range(2,20)\n",
    "inertias = []\n",
    "\n",
    "for k in K:\n",
    "    kmeans = KMeans(n_clusters=k,\n",
    "                    random_state=1234,\n",
    "                   )\n",
    "    kmeans.fit(X_prep)\n",
    "    inertias.append(kmeans.inertia_)\n",
    "    \n",
    "import matplotlib.pyplot as plt\n",
    "\n",
    "plt.figure(figsize=(16,8))\n",
    "plt.plot(K, inertias, 'bx-')\n",
    "plt.xlabel('k')\n",
    "plt.ylabel('inertia')\n",
    "plt.xticks(np.arange(min(K), max(K)+1, 1.0))\n",
    "plt.title(f'Elbow Method showing the optimal k within {list(K)}')"
   ]
  },
  {
   "cell_type": "code",
   "execution_count": 51,
   "id": "danish-means",
   "metadata": {},
   "outputs": [
    {
     "data": {
      "application/vnd.jupyter.widget-view+json": {
       "model_id": "21f593e0aada4d9e8093c93fbfdf006a",
       "version_major": 2,
       "version_minor": 0
      },
      "text/plain": [
       "  0%|          | 0/18 [00:00<?, ?it/s]"
      ]
     },
     "metadata": {},
     "output_type": "display_data"
    },
    {
     "data": {
      "text/plain": [
       "Text(0.5, 1.0, 'Silhouette Method showing the optimal k within [2, 3, 4, 5, 6, 7, 8, 9, 10, 11, 12, 13, 14, 15, 16, 17, 18, 19]')"
      ]
     },
     "execution_count": 51,
     "metadata": {},
     "output_type": "execute_result"
    },
    {
     "data": {
      "image/png": "[encoded data removed]",
      "text/plain": [
       "<Figure size 1152x576 with 1 Axes>"
      ]
     },
     "metadata": {
      "needs_background": "light"
     },
     "output_type": "display_data"
    }
   ],
   "source": [
    "from sklearn.metrics import silhouette_score\n",
    "\n",
    "import numpy as np\n",
    "K = range(2,20)\n",
    "silhouettes = []\n",
    "\n",
    "for k in tqdm(K):\n",
    "    kmeans = KMeans(n_clusters=k, random_state=1234)\n",
    "    kmeans.fit(X_prep)\n",
    "    silhouettes.append(silhouette_score(X_prep, kmeans.predict(X_prep) )\n",
    "                   )\n",
    "    \n",
    "import matplotlib.pyplot as plt\n",
    "\n",
    "plt.figure(figsize=(16,8))\n",
    "plt.plot(K, silhouettes, 'bx-')\n",
    "plt.xlabel('k')\n",
    "plt.ylabel('silhouette score')\n",
    "plt.xticks(np.arange(min(K), max(K)+1, 1.0))\n",
    "plt.title(f'Silhouette Method showing the optimal k within {list(K)}')"
   ]
  },
  {
   "cell_type": "code",
   "execution_count": 52,
   "id": "coordinated-situation",
   "metadata": {},
   "outputs": [
    {
     "data": {
      "image/png": "[encoded data removed]",
      "text/plain": [
       "<Figure size 1080x864 with 6 Axes>"
      ]
     },
     "metadata": {},
     "output_type": "display_data"
    }
   ],
   "source": [
    "from yellowbrick.cluster import SilhouetteVisualizer\n",
    "\n",
    "fig, ax = plt.subplots(3, 2, figsize=(15,12))\n",
    "for k in [2, 3, 4, 5, 6, 7]:\n",
    "    '''\n",
    "    Create KMeans instance for different number of clusters\n",
    "    '''\n",
    "    km = KMeans(n_clusters=k,\n",
    "                random_state=1234)\n",
    "    q, mod = divmod(k, 2)\n",
    "    '''\n",
    "    Create SilhouetteVisualizer instance with KMeans instance\n",
    "    Fit the visualizer\n",
    "    '''\n",
    "    \n",
    "    visualizer = SilhouetteVisualizer(km, colors='yellowbrick', ax=ax[q-1][mod])\n",
    "    visualizer.fit(X_prep)"
   ]
  },
  {
   "cell_type": "markdown",
   "id": "based-least",
   "metadata": {},
   "source": [
    "We decide for 6 clusters"
   ]
  },
  {
   "cell_type": "code",
   "execution_count": 53,
   "id": "institutional-situation",
   "metadata": {},
   "outputs": [],
   "source": [
    "cols = X_prep.columns"
   ]
  },
  {
   "cell_type": "code",
   "execution_count": 54,
   "id": "russian-birth",
   "metadata": {},
   "outputs": [],
   "source": [
    "kmeans = KMeans(n_clusters=6,\n",
    "               random_state=1234)\n",
    "kmeans.fit(X_prep)\n",
    "\n",
    "clusters = kmeans.predict(X_prep)"
   ]
  },
  {
   "cell_type": "code",
   "execution_count": 55,
   "id": "based-pasta",
   "metadata": {},
   "outputs": [
    {
     "data": {
      "text/plain": [
       "(50000,)"
      ]
     },
     "execution_count": 55,
     "metadata": {},
     "output_type": "execute_result"
    }
   ],
   "source": [
    "clusters.shape"
   ]
  },
  {
   "cell_type": "code",
   "execution_count": 56,
   "id": "allied-trash",
   "metadata": {},
   "outputs": [],
   "source": [
    "songs_clustered = X_prep.copy()\n",
    "songs_clustered['cluster_id'] = clusters"
   ]
  },
  {
   "cell_type": "code",
   "execution_count": 57,
   "id": "vanilla-argument",
   "metadata": {},
   "outputs": [
    {
     "data": {
      "text/html": [
       "<div>\n",
       "<style scoped>\n",
       "    .dataframe tbody tr th:only-of-type {\n",
       "        vertical-align: middle;\n",
       "    }\n",
       "\n",
       "    .dataframe tbody tr th {\n",
       "        vertical-align: top;\n",
       "    }\n",
       "\n",
       "    .dataframe thead th {\n",
       "        text-align: right;\n",
       "    }\n",
       "</style>\n",
       "<table border=\"1\" class=\"dataframe\">\n",
       "  <thead>\n",
       "    <tr style=\"text-align: right;\">\n",
       "      <th></th>\n",
       "      <th>danceability</th>\n",
       "      <th>energy</th>\n",
       "      <th>loudness</th>\n",
       "      <th>speechiness</th>\n",
       "      <th>acousticness</th>\n",
       "      <th>instrumentalness</th>\n",
       "      <th>liveness</th>\n",
       "      <th>valence</th>\n",
       "      <th>tempo</th>\n",
       "      <th>duration_ms</th>\n",
       "      <th>key</th>\n",
       "      <th>mode</th>\n",
       "      <th>time_signature</th>\n",
       "      <th>cluster_id</th>\n",
       "    </tr>\n",
       "  </thead>\n",
       "  <tbody>\n",
       "    <tr>\n",
       "      <th>17983</th>\n",
       "      <td>0.926543</td>\n",
       "      <td>0.880789</td>\n",
       "      <td>0.373893</td>\n",
       "      <td>-0.262175</td>\n",
       "      <td>-0.593033</td>\n",
       "      <td>-0.592812</td>\n",
       "      <td>0.722609</td>\n",
       "      <td>1.559275</td>\n",
       "      <td>0.038680</td>\n",
       "      <td>0.982607</td>\n",
       "      <td>1</td>\n",
       "      <td>0</td>\n",
       "      <td>4</td>\n",
       "      <td>2</td>\n",
       "    </tr>\n",
       "    <tr>\n",
       "      <th>75746</th>\n",
       "      <td>-0.353088</td>\n",
       "      <td>1.083419</td>\n",
       "      <td>0.962192</td>\n",
       "      <td>-0.430658</td>\n",
       "      <td>-1.052605</td>\n",
       "      <td>-0.598172</td>\n",
       "      <td>-0.708195</td>\n",
       "      <td>-0.384268</td>\n",
       "      <td>0.711279</td>\n",
       "      <td>-0.253690</td>\n",
       "      <td>11</td>\n",
       "      <td>0</td>\n",
       "      <td>4</td>\n",
       "      <td>4</td>\n",
       "    </tr>\n",
       "    <tr>\n",
       "      <th>71891</th>\n",
       "      <td>-1.905428</td>\n",
       "      <td>-1.214193</td>\n",
       "      <td>-1.558383</td>\n",
       "      <td>-0.455714</td>\n",
       "      <td>1.542021</td>\n",
       "      <td>1.970167</td>\n",
       "      <td>-0.616705</td>\n",
       "      <td>-1.496831</td>\n",
       "      <td>-1.040237</td>\n",
       "      <td>-0.200755</td>\n",
       "      <td>0</td>\n",
       "      <td>0</td>\n",
       "      <td>4</td>\n",
       "      <td>3</td>\n",
       "    </tr>\n",
       "    <tr>\n",
       "      <th>71459</th>\n",
       "      <td>-0.992904</td>\n",
       "      <td>0.777758</td>\n",
       "      <td>0.303506</td>\n",
       "      <td>-0.405601</td>\n",
       "      <td>-1.046861</td>\n",
       "      <td>-0.598151</td>\n",
       "      <td>0.182563</td>\n",
       "      <td>0.824708</td>\n",
       "      <td>-0.344403</td>\n",
       "      <td>0.283442</td>\n",
       "      <td>8</td>\n",
       "      <td>1</td>\n",
       "      <td>4</td>\n",
       "      <td>4</td>\n",
       "    </tr>\n",
       "    <tr>\n",
       "      <th>40911</th>\n",
       "      <td>-0.547131</td>\n",
       "      <td>1.419990</td>\n",
       "      <td>0.790305</td>\n",
       "      <td>0.086022</td>\n",
       "      <td>-1.053025</td>\n",
       "      <td>1.316616</td>\n",
       "      <td>3.016216</td>\n",
       "      <td>0.174310</td>\n",
       "      <td>-0.241240</td>\n",
       "      <td>-0.093966</td>\n",
       "      <td>9</td>\n",
       "      <td>1</td>\n",
       "      <td>4</td>\n",
       "      <td>4</td>\n",
       "    </tr>\n",
       "    <tr>\n",
       "      <th>...</th>\n",
       "      <td>...</td>\n",
       "      <td>...</td>\n",
       "      <td>...</td>\n",
       "      <td>...</td>\n",
       "      <td>...</td>\n",
       "      <td>...</td>\n",
       "      <td>...</td>\n",
       "      <td>...</td>\n",
       "      <td>...</td>\n",
       "      <td>...</td>\n",
       "      <td>...</td>\n",
       "      <td>...</td>\n",
       "      <td>...</td>\n",
       "      <td>...</td>\n",
       "    </tr>\n",
       "    <tr>\n",
       "      <th>70187</th>\n",
       "      <td>0.150373</td>\n",
       "      <td>-0.650952</td>\n",
       "      <td>-0.082077</td>\n",
       "      <td>-0.498051</td>\n",
       "      <td>1.385071</td>\n",
       "      <td>-0.598159</td>\n",
       "      <td>-0.497260</td>\n",
       "      <td>0.354126</td>\n",
       "      <td>0.583877</td>\n",
       "      <td>-0.366730</td>\n",
       "      <td>11</td>\n",
       "      <td>0</td>\n",
       "      <td>4</td>\n",
       "      <td>4</td>\n",
       "    </tr>\n",
       "    <tr>\n",
       "      <th>73673</th>\n",
       "      <td>1.450982</td>\n",
       "      <td>0.190476</td>\n",
       "      <td>0.576468</td>\n",
       "      <td>-0.091965</td>\n",
       "      <td>-0.899896</td>\n",
       "      <td>-0.598119</td>\n",
       "      <td>-0.217706</td>\n",
       "      <td>0.748190</td>\n",
       "      <td>-0.359266</td>\n",
       "      <td>-0.534383</td>\n",
       "      <td>5</td>\n",
       "      <td>1</td>\n",
       "      <td>4</td>\n",
       "      <td>1</td>\n",
       "    </tr>\n",
       "    <tr>\n",
       "      <th>57658</th>\n",
       "      <td>0.139885</td>\n",
       "      <td>0.970084</td>\n",
       "      <td>0.792839</td>\n",
       "      <td>-0.523107</td>\n",
       "      <td>-0.241250</td>\n",
       "      <td>-0.598172</td>\n",
       "      <td>2.126729</td>\n",
       "      <td>1.777350</td>\n",
       "      <td>-0.374223</td>\n",
       "      <td>-0.372930</td>\n",
       "      <td>5</td>\n",
       "      <td>1</td>\n",
       "      <td>4</td>\n",
       "      <td>1</td>\n",
       "    </tr>\n",
       "    <tr>\n",
       "      <th>42127</th>\n",
       "      <td>-0.589086</td>\n",
       "      <td>1.426859</td>\n",
       "      <td>1.063831</td>\n",
       "      <td>-0.356353</td>\n",
       "      <td>-1.047375</td>\n",
       "      <td>-0.598172</td>\n",
       "      <td>-0.046162</td>\n",
       "      <td>0.273782</td>\n",
       "      <td>0.849969</td>\n",
       "      <td>0.448792</td>\n",
       "      <td>7</td>\n",
       "      <td>0</td>\n",
       "      <td>4</td>\n",
       "      <td>1</td>\n",
       "    </tr>\n",
       "    <tr>\n",
       "      <th>30327</th>\n",
       "      <td>0.643346</td>\n",
       "      <td>0.362195</td>\n",
       "      <td>0.602652</td>\n",
       "      <td>-0.396097</td>\n",
       "      <td>-0.641742</td>\n",
       "      <td>-0.598172</td>\n",
       "      <td>-0.389250</td>\n",
       "      <td>-0.365138</td>\n",
       "      <td>0.764679</td>\n",
       "      <td>-0.240466</td>\n",
       "      <td>6</td>\n",
       "      <td>1</td>\n",
       "      <td>4</td>\n",
       "      <td>1</td>\n",
       "    </tr>\n",
       "  </tbody>\n",
       "</table>\n",
       "<p>50000 rows × 14 columns</p>\n",
       "</div>"
      ],
      "text/plain": [
       "       danceability    energy  loudness  speechiness  acousticness  \\\n",
       "17983      0.926543  0.880789  0.373893    -0.262175     -0.593033   \n",
       "75746     -0.353088  1.083419  0.962192    -0.430658     -1.052605   \n",
       "71891     -1.905428 -1.214193 -1.558383    -0.455714      1.542021   \n",
       "71459     -0.992904  0.777758  0.303506    -0.405601     -1.046861   \n",
       "40911     -0.547131  1.419990  0.790305     0.086022     -1.053025   \n",
       "...             ...       ...       ...          ...           ...   \n",
       "70187      0.150373 -0.650952 -0.082077    -0.498051      1.385071   \n",
       "73673      1.450982  0.190476  0.576468    -0.091965     -0.899896   \n",
       "57658      0.139885  0.970084  0.792839    -0.523107     -0.241250   \n",
       "42127     -0.589086  1.426859  1.063831    -0.356353     -1.047375   \n",
       "30327      0.643346  0.362195  0.602652    -0.396097     -0.641742   \n",
       "\n",
       "       instrumentalness  liveness   valence     tempo  duration_ms key mode  \\\n",
       "17983         -0.592812  0.722609  1.559275  0.038680     0.982607   1    0   \n",
       "75746         -0.598172 -0.708195 -0.384268  0.711279    -0.253690  11    0   \n",
       "71891          1.970167 -0.616705 -1.496831 -1.040237    -0.200755   0    0   \n",
       "71459         -0.598151  0.182563  0.824708 -0.344403     0.283442   8    1   \n",
       "40911          1.316616  3.016216  0.174310 -0.241240    -0.093966   9    1   \n",
       "...                 ...       ...       ...       ...          ...  ..  ...   \n",
       "70187         -0.598159 -0.497260  0.354126  0.583877    -0.366730  11    0   \n",
       "73673         -0.598119 -0.217706  0.748190 -0.359266    -0.534383   5    1   \n",
       "57658         -0.598172  2.126729  1.777350 -0.374223    -0.372930   5    1   \n",
       "42127         -0.598172 -0.046162  0.273782  0.849969     0.448792   7    0   \n",
       "30327         -0.598172 -0.389250 -0.365138  0.764679    -0.240466   6    1   \n",
       "\n",
       "      time_signature  cluster_id  \n",
       "17983              4           2  \n",
       "75746              4           4  \n",
       "71891              4           3  \n",
       "71459              4           4  \n",
       "40911              4           4  \n",
       "...              ...         ...  \n",
       "70187              4           4  \n",
       "73673              4           1  \n",
       "57658              4           1  \n",
       "42127              4           1  \n",
       "30327              4           1  \n",
       "\n",
       "[50000 rows x 14 columns]"
      ]
     },
     "execution_count": 57,
     "metadata": {},
     "output_type": "execute_result"
    }
   ],
   "source": [
    "songs_clustered"
   ]
  },
  {
   "cell_type": "code",
   "execution_count": 58,
   "id": "handed-carnival",
   "metadata": {},
   "outputs": [],
   "source": [
    "cluster_centers_df = pd.DataFrame(kmeans.cluster_centers_, columns=cols)\n",
    "cluster_centers_df['cluster_id'] = range(0,6)"
   ]
  },
  {
   "cell_type": "code",
   "execution_count": 59,
   "id": "atomic-breast",
   "metadata": {},
   "outputs": [],
   "source": [
    "# we can only plot 2 dimensions,\n",
    "# so we take 'danceability', 'loudness'\n",
    "# we also need the 'cluster_id' to color the dots with\n",
    "clusters_sub_df = cluster_centers_df[['danceability', 'loudness', 'cluster_id']]\n",
    "songs_sub_df = songs_clustered[['danceability', 'loudness', 'cluster_id']]"
   ]
  },
  {
   "cell_type": "code",
   "execution_count": 60,
   "id": "competent-palestinian",
   "metadata": {},
   "outputs": [
    {
     "data": {
      "text/plain": [
       "<AxesSubplot:xlabel='danceability', ylabel='loudness'>"
      ]
     },
     "execution_count": 60,
     "metadata": {},
     "output_type": "execute_result"
    },
    {
     "data": {
      "image/png": "[encoded data removed]",
      "text/plain": [
       "<Figure size 576x396 with 1 Axes>"
      ]
     },
     "metadata": {},
     "output_type": "display_data"
    }
   ],
   "source": [
    "import seaborn as sns\n",
    "\n",
    "# plot datapoints\n",
    "sns.scatterplot(data=songs_sub_df,\n",
    "               x=\"danceability\",\n",
    "               y=\"loudness\",\n",
    "               hue='cluster_id')\n",
    "\n",
    "# plot centroids\n",
    "sns.scatterplot(data=clusters_sub_df,\n",
    "               x=\"danceability\",\n",
    "               y=\"loudness\",\n",
    "               hue='cluster_id',\n",
    "                legend=False,\n",
    "                marker=u'8',\n",
    "                s=500,\n",
    "               )\n"
   ]
  },
  {
   "cell_type": "markdown",
   "id": "inside-present",
   "metadata": {},
   "source": [
    "Is a song in the Top 100 list?"
   ]
  },
  {
   "cell_type": "code",
   "execution_count": 61,
   "id": "broken-order",
   "metadata": {},
   "outputs": [],
   "source": [
    "def is_hot(song):\n",
    "    s = top100['title'].str.contains(song, na=False, case=False)\n",
    "    if s.sum() > 0:\n",
    "        return True\n",
    "    else:\n",
    "        return False"
   ]
  },
  {
   "cell_type": "code",
   "execution_count": 62,
   "id": "devoted-kazakhstan",
   "metadata": {},
   "outputs": [
    {
     "data": {
      "text/plain": [
       "True"
      ]
     },
     "execution_count": 62,
     "metadata": {},
     "output_type": "execute_result"
    }
   ],
   "source": [
    "is_hot('Drivers')"
   ]
  },
  {
   "cell_type": "markdown",
   "id": "adverse-violin",
   "metadata": {},
   "source": [
    "Ask for user input and recommend song"
   ]
  },
  {
   "cell_type": "code",
   "execution_count": 63,
   "id": "special-reunion",
   "metadata": {},
   "outputs": [],
   "source": [
    "def recommend():\n",
    "    print(\"\"\"\n",
    "    Enter your song's name. Example:\n",
    "    >>> where is love?\n",
    "    \"\"\")\n",
    "    user_input = input()\n",
    "    \n",
    "    if is_hot(user_input):\n",
    "        \n",
    "        s = top100[top100['title'].str.contains('love', na=False, case=False)].sample()\n",
    "        \n",
    "        print('Match found!')\n",
    "        print('* ' + '\"' + s.iloc[0]['title'] + '\"' + ' by ' + s.iloc[0]['artist'])\n",
    "        s = top100.sample()\n",
    "        print(\"\"\"Your song is hot!\\nHere's another one for you to check out:\"\"\")\n",
    "        print('* ' + '\"'+s.iloc[0]['title']+'\"' + ' by ' + s.iloc[0]['artist'])\n",
    "    else:\n",
    "        \n",
    "        result = sp.search(q=user_input, type='track', limit=1)\n",
    "        song_audio_features = sp.audio_features(result['tracks']['items'][0]['id'])\n",
    "        song_audio_features_df = pd.DataFrame(song_audio_features, columns=X_cont.columns)\n",
    "        song_scaled = pd.DataFrame(scaler.transform(song_audio_features_df))\n",
    "        song_disc = pd.DataFrame(song_audio_features, columns=['key','mode','time_signature'])\n",
    "        song_audio_features = pd.concat([song_scaled,song_disc], axis=1)\n",
    "        cl = kmeans.predict(song_audio_features)[0]\n",
    "        recommendation = df_all.iloc[songs_clustered[songs_clustered.cluster_id==cl].sample().index]\n",
    "\n",
    "        print(\"\"\"Your song is not in the Top 100.\\nThis match was found:\"\"\")\n",
    "        print(\"* \" + str(result['tracks']['items'][0]['name']) +\n",
    "              \" by \" +\n",
    "              str(result['tracks']['items'][0]['artists'][0]['name']))\n",
    "        print(\"Here's another one for you to check out:\")\n",
    "        print('* ' + str(recommendation.song_name.iloc[0]) +\n",
    "              \" by \"\n",
    "              + str([i for i in recommendation.artists.iloc[0]][0]))\n",
    "    pass"
   ]
  },
  {
   "cell_type": "markdown",
   "id": "empirical-valve",
   "metadata": {},
   "source": [
    "Execute"
   ]
  },
  {
   "cell_type": "code",
   "execution_count": 64,
   "id": "minimal-earthquake",
   "metadata": {},
   "outputs": [
    {
     "name": "stdout",
     "output_type": "stream",
     "text": [
      "\n",
      "    Enter your song's name. Example:\n",
      "    >>> where is love?\n",
      "    \n",
      "where is love\n",
      "Your song is not in the Top 100.\n",
      "This match was found:\n",
      "* Where is love by (G)I-DLE\n",
      "Here's another one for you to check out:\n",
      "* Downtown - 64 Original Release With Petula Clark by Petula Clark\n"
     ]
    }
   ],
   "source": [
    "recommend()"
   ]
  },
  {
   "cell_type": "code",
   "execution_count": null,
   "id": "right-audio",
   "metadata": {},
   "outputs": [],
   "source": []
  }
 ],
 "metadata": {
  "kernelspec": {
   "display_name": "Python 3",
   "language": "python",
   "name": "python3"
  },
  "language_info": {
   "codemirror_mode": {
    "name": "ipython",
    "version": 3
   },
   "file_extension": ".py",
   "mimetype": "text/x-python",
   "name": "python",
   "nbconvert_exporter": "python",
   "pygments_lexer": "ipython3",
   "version": "3.7.9"
  }
 },
 "nbformat": 4,
 "nbformat_minor": 5
}
